{
 "cells": [
  {
   "cell_type": "code",
   "execution_count": null,
   "metadata": {
    "executionInfo": {
     "elapsed": 5161,
     "status": "ok",
     "timestamp": 1678454264329,
     "user": {
      "displayName": "SANCHIT GOEL IIIT Dharwad",
      "userId": "03449467017154576853"
     },
     "user_tz": -330
    },
    "id": "yOEVnTb6AAic"
   },
   "outputs": [
    {
     "name": "stderr",
     "output_type": "stream",
     "text": [
      "c:\\Users\\Administrator\\AppData\\Local\\Programs\\Python\\Python310\\lib\\site-packages\\tqdm\\auto.py:21: TqdmWarning: IProgress not found. Please update jupyter and ipywidgets. See https://ipywidgets.readthedocs.io/en/stable/user_install.html\n",
      "  from .autonotebook import tqdm as notebook_tqdm\n"
     ]
    }
   ],
   "source": [
    "'''\n",
    "This script trains the esm model on the PFR task\n",
    "'''\n",
    "\n",
    "# import libraries\n",
    "import pandas as pd\n",
    "import random\n",
    "import numpy as np\n",
    "import matplotlib.pyplot as plt\n",
    "import seaborn as sns\n",
    "import torch\n",
    "import torch.nn as nn\n",
    "from torch.utils.data import Dataset, DataLoader, SubsetRandomSampler, Sampler\n",
    "from sklearn.model_selection import StratifiedKFold, KFold\n",
    "from sklearn.preprocessing import LabelEncoder\n",
    "from torch.nn import CrossEntropyLoss\n",
    "from torchmetrics import Accuracy\n",
    "from torch.optim import Adam\n",
    "from transformers import AutoTokenizer, AutoModelForSequenceClassification, AutoConfig\n",
    "from transformers import get_linear_schedule_with_warmup\n",
    "from tqdm import tqdm\n",
    "from warnings import filterwarnings\n",
    "from sklearn.preprocessing import LabelEncoder\n",
    "\n",
    "filterwarnings(\"ignore\")"
   ]
  },
  {
   "cell_type": "code",
   "execution_count": null,
   "metadata": {
    "executionInfo": {
     "elapsed": 12,
     "status": "ok",
     "timestamp": 1678454264329,
     "user": {
      "displayName": "SANCHIT GOEL IIIT Dharwad",
      "userId": "03449467017154576853"
     },
     "user_tz": -330
    },
    "id": "0BRJnuRNcgDv"
   },
   "outputs": [],
   "source": [
    "class SubsetSequentialSampler(Sampler):\n",
    "    '''This class is used to sample the data sequentially'''\n",
    "    def __init__(self, indices):\n",
    "        self.indices = indices\n",
    "\n",
    "    def __iter__(self):\n",
    "        return (self.indices[i] for i in range(len(self.indices)))\n",
    "\n",
    "    def __len__(self):\n",
    "        return len(self.indices)"
   ]
  },
  {
   "cell_type": "code",
   "execution_count": null,
   "metadata": {
    "executionInfo": {
     "elapsed": 8,
     "status": "ok",
     "timestamp": 1678454264330,
     "user": {
      "displayName": "SANCHIT GOEL IIIT Dharwad",
      "userId": "03449467017154576853"
     },
     "user_tz": -330
    },
    "id": "q-RydAc7AAie"
   },
   "outputs": [],
   "source": [
    "dataset = \"SCOPe\" # specify dataset over here from [dd, edd, tg, SCOPe]\n",
    "# set fold paths\n",
    "if dataset == \"dd\":\n",
    "    path = \"./dd_Fold_labels.txt\"\n",
    "if dataset == \"edd\":\n",
    "    path = \"./edd_Fold_labels.txt\"\n",
    "if dataset == \"tg\":\n",
    "    path = \"./tg_Fold_labels.txt\"\n",
    "if dataset == \"SCOPe\":\n",
    "    path = \"./astral_2_08_final.csv\""
   ]
  },
  {
   "cell_type": "code",
   "execution_count": null,
   "metadata": {
    "executionInfo": {
     "elapsed": 8,
     "status": "ok",
     "timestamp": 1678454264330,
     "user": {
      "displayName": "SANCHIT GOEL IIIT Dharwad",
      "userId": "03449467017154576853"
     },
     "user_tz": -330
    },
    "id": "f0NxOHdiAAie"
   },
   "outputs": [
    {
     "name": "stdout",
     "output_type": "stream",
     "text": [
      "Number of sequences: 6249\n",
      "Maximum sequence length: 1207\n",
      "Number of folds: 171\n"
     ]
    }
   ],
   "source": [
    "encoder = LabelEncoder() # label encoder\n",
    "if dataset == \"SCOPe\":  # label encode data if dataset is SCOPe\n",
    "    df = pd.read_csv(path)\n",
    "    sequences = df[\"sequence\"].tolist()\n",
    "    folds = encoder.fit_transform(df[\"fold\"]).tolist()\n",
    "else: # get data from the fold file if dataset is not SCOPe\n",
    "    sequences, folds = [], []\n",
    "    with open(path, \"r\") as f:\n",
    "        for line in f:\n",
    "            line = line.strip().split()\n",
    "            sequence = line[1].upper()\n",
    "            sequences.append(sequence)\n",
    "            folds.append(int(line[0]))\n",
    "    folds = encoder.fit_transform(np.array(folds)).tolist()\n",
    "print(f\"Number of sequences: {len(sequences)}\")\n",
    "print(f\"Maximum sequence length: {len(max(sequences, key = len))}\")\n",
    "print(f\"Number of folds: {len(set(folds))}\")"
   ]
  },
  {
   "cell_type": "code",
   "execution_count": null,
   "metadata": {
    "executionInfo": {
     "elapsed": 7,
     "status": "ok",
     "timestamp": 1678454264330,
     "user": {
      "displayName": "SANCHIT GOEL IIIT Dharwad",
      "userId": "03449467017154576853"
     },
     "user_tz": -330
    },
    "id": "HvGLX3X3f_e_"
   },
   "outputs": [],
   "source": [
    "# checkpoint = \"facebook/esm2_t6_8M_UR50D\" # smallest esm model\n",
    "# checkpoint = \"facebook/esm2_t12_35M_UR50D\"\n",
    "checkpoint = \"facebook/esm2_t30_150M_UR50D\" # model on which dd and tg results were achieved (computationally best option for us)\n",
    "# checkpoint = \"facebook/esm2_t33_650M_UR50D\"\n",
    "# checkpoint = \"facebook/esm2_t36_3B_UR50D\"\n",
    "# checkpoint = \"facebook/esm2_t48_15B_UR50D\" # largest esm model\n",
    "if checkpoint == \"facebook/esm2_t6_8M_UR50D\": # set model name if using base model or 30 layered model\n",
    "    model_name = \"base\"\n",
    "else:\n",
    "    model_name = \"30\"\n",
    "tokenizer = AutoTokenizer.from_pretrained(checkpoint, do_lower_case=False) # get tokenizer"
   ]
  },
  {
   "cell_type": "code",
   "execution_count": null,
   "metadata": {
    "executionInfo": {
     "elapsed": 7,
     "status": "ok",
     "timestamp": 1678454264330,
     "user": {
      "displayName": "SANCHIT GOEL IIIT Dharwad",
      "userId": "03449467017154576853"
     },
     "user_tz": -330
    },
    "id": "fvBnWKVfAAie"
   },
   "outputs": [],
   "source": [
    "class ProteinDataset(Dataset):\n",
    "    '''This class is used to create a dataset for the protein sequences'''\n",
    "    def __init__(self, sequences, labels, tokenizer, transform=None):\n",
    "        \"\"\"\n",
    "        Args:\n",
    "            sequences (list): List of protein sequences\n",
    "            labels (list): List of fold labels\n",
    "            tokenizer (transformers.tokenization_utils): A tokenizer to transform protein sequences to pytorch tensors\n",
    "            transform (callable, optional): Optional transform to be applied\n",
    "                on a sample.\n",
    "        \"\"\"\n",
    "        self.sequences = sequences\n",
    "        self.labels = labels\n",
    "        self.tokenizer = tokenizer\n",
    "        self.transform = transform\n",
    "\n",
    "    def __len__(self):\n",
    "        return len(self.sequences)\n",
    "\n",
    "    def __getitem__(self, idx):\n",
    "        '''\n",
    "        fn: __getitem__\n",
    "        args:\n",
    "            idx: index of the sequence\n",
    "        return:\n",
    "            sample: dictionary containing the tokenized sequence, attention mask and\n",
    "        '''\n",
    "        if torch.is_tensor(idx): # convert tensor to list\n",
    "            idx = idx.tolist()\n",
    "\n",
    "        # get sequence and label\n",
    "        sequence = self.sequences[idx]\n",
    "        label = self.labels[idx]\n",
    "        # tokenize the sequence\n",
    "        sample = self.tokenizer.encode_plus(sequence, add_special_tokens=True, padding=\"max_length\", truncation=True, max_length=512, return_tensors=\"pt\")\n",
    "        sample[\"input_ids\"] = sample[\"input_ids\"].squeeze(0) # remove the batch dimension\n",
    "        sample[\"attention_mask\"] = sample[\"attention_mask\"].squeeze(0) # remove the batch dimension\n",
    "        sample[\"label\"] = label # add label to the sample\n",
    "\n",
    "        if self.transform: # apply transformation if any\n",
    "            sample = self.transform(sample)\n",
    "\n",
    "        return sample"
   ]
  },
  {
   "cell_type": "code",
   "execution_count": null,
   "metadata": {
    "executionInfo": {
     "elapsed": 6,
     "status": "ok",
     "timestamp": 1678454264330,
     "user": {
      "displayName": "SANCHIT GOEL IIIT Dharwad",
      "userId": "03449467017154576853"
     },
     "user_tz": -330
    },
    "id": "sHKyDoHxgAtS"
   },
   "outputs": [],
   "source": [
    "ds = ProteinDataset(sequences, folds, tokenizer) # create dataset"
   ]
  },
  {
   "cell_type": "code",
   "execution_count": null,
   "metadata": {
    "executionInfo": {
     "elapsed": 734,
     "status": "ok",
     "timestamp": 1678454265059,
     "user": {
      "displayName": "SANCHIT GOEL IIIT Dharwad",
      "userId": "03449467017154576853"
     },
     "user_tz": -330
    },
    "id": "Avw88JBhAAif"
   },
   "outputs": [],
   "source": [
    "parallel = \"no\" #\"yes\"/\"no\" # specify if parallel processing is to be used\n",
    "if parallel == \"yes\": # use parallel processing\n",
    "    batch_size = 16 # batch size\n",
    "else: # do not use parallel processing\n",
    "    batch_size = 4 # batch size\n",
    "epochs = 100 # number of epochs\n",
    "num_classes = torch.unique(torch.Tensor(folds)).size()[0] # number of classes"
   ]
  },
  {
   "cell_type": "code",
   "execution_count": null,
   "metadata": {
    "colab": {
     "base_uri": "https://localhost:8080/"
    },
    "executionInfo": {
     "elapsed": 8,
     "status": "ok",
     "timestamp": 1678454265059,
     "user": {
      "displayName": "SANCHIT GOEL IIIT Dharwad",
      "userId": "03449467017154576853"
     },
     "user_tz": -330
    },
    "id": "rYTFEvu-AipC",
    "outputId": "2176b6f5-da8e-47db-812b-cb2d22adfce4"
   },
   "outputs": [
    {
     "name": "stdout",
     "output_type": "stream",
     "text": [
      "cuda\n"
     ]
    }
   ],
   "source": [
    "# use gpu if available else cpu\n",
    "if torch.cuda.is_available():\n",
    "    device = \"cuda\"\n",
    "else:\n",
    "    device = \"cpu\"\n",
    "print(device)"
   ]
  },
  {
   "cell_type": "code",
   "execution_count": null,
   "metadata": {
    "executionInfo": {
     "elapsed": 5,
     "status": "ok",
     "timestamp": 1678454265060,
     "user": {
      "displayName": "SANCHIT GOEL IIIT Dharwad",
      "userId": "03449467017154576853"
     },
     "user_tz": -330
    },
    "id": "VD-e6Bkpg8j0"
   },
   "outputs": [],
   "source": [
    "def save(model, optimizer, dataset=dataset):\n",
    "    '''\n",
    "    fn: save model\n",
    "    args:\n",
    "        model: model to be saved\n",
    "        optimizer: optimizer to be saved\n",
    "        dataset: dataset name\n",
    "    return:\n",
    "        None\n",
    "    '''\n",
    "    filepath = f\"./best_esm/esm_{model_name}_{dataset}.pth\" # define the file path\n",
    "    state = {\n",
    "        'state_dict': model.state_dict(),\n",
    "        'optimizer': optimizer.state_dict(),\n",
    "    } # save model and optimizer\n",
    "    torch.save(state, filepath)\n",
    "\n",
    "class EarlyStopper:\n",
    "    '''\n",
    "    fn: EarlyStopper\n",
    "    args:\n",
    "        patience: number of epochs to wait before stopping\n",
    "        min_delta: minimum change in validation loss\n",
    "    return:\n",
    "        None\n",
    "    '''\n",
    "    def __init__(self, patience=1, min_delta=0): # initialize the class\n",
    "        self.patience = patience\n",
    "        self.min_delta = min_delta\n",
    "        self.counter = 0\n",
    "        self.min_validation_loss = np.inf\n",
    "\n",
    "    def early_stop(self, validation_loss, model, optimizer): # check if early stopping is to be done\n",
    "        if validation_loss < self.min_validation_loss: # save model if validation loss is less than minimum validation loss\n",
    "            self.min_validation_loss = validation_loss # update minimum validation loss\n",
    "            self.counter = 0 # reset counter\n",
    "            save(model, optimizer) # save model\n",
    "        elif validation_loss > (self.min_validation_loss + self.min_delta): # check if validation loss is greater than minimum validation loss + minimum delta\n",
    "            self.counter += 1 # increment counter\n",
    "            if self.counter >= self.patience: # check if counter is greater than patience\n",
    "                return True # early stop\n",
    "        return False"
   ]
  },
  {
   "cell_type": "code",
   "execution_count": null,
   "metadata": {
    "colab": {
     "base_uri": "https://localhost:8080/",
     "height": 1000
    },
    "executionInfo": {
     "elapsed": 2687568,
     "status": "error",
     "timestamp": 1678459265076,
     "user": {
      "displayName": "SANCHIT GOEL IIIT Dharwad",
      "userId": "03449467017154576853"
     },
     "user_tz": -330
    },
    "id": "59ZGNjvBAAif",
    "outputId": "5ff8d782-e5c6-48f5-b704-e44adac8942c"
   },
   "outputs": [
    {
     "name": "stderr",
     "output_type": "stream",
     "text": [
      "Some weights of the model checkpoint at facebook/esm2_t30_150M_UR50D were not used when initializing EsmForSequenceClassification: ['lm_head.dense.weight', 'lm_head.decoder.weight', 'lm_head.layer_norm.weight', 'lm_head.bias', 'lm_head.dense.bias', 'lm_head.layer_norm.bias']\n",
      "- This IS expected if you are initializing EsmForSequenceClassification from the checkpoint of a model trained on another task or with another architecture (e.g. initializing a BertForSequenceClassification model from a BertForPreTraining model).\n",
      "- This IS NOT expected if you are initializing EsmForSequenceClassification from the checkpoint of a model that you expect to be exactly identical (initializing a BertForSequenceClassification model from a BertForSequenceClassification model).\n",
      "Some weights of EsmForSequenceClassification were not initialized from the model checkpoint at facebook/esm2_t30_150M_UR50D and are newly initialized: ['classifier.dense.bias', 'classifier.out_proj.weight', 'classifier.out_proj.bias', 'classifier.dense.weight']\n",
      "You should probably TRAIN this model on a down-stream task to be able to use it for predictions and inference.\n"
     ]
    },
    {
     "name": "stdout",
     "output_type": "stream",
     "text": [
      "Fold 1:\n"
     ]
    },
    {
     "name": "stderr",
     "output_type": "stream",
     "text": [
      "  1%|          | 1/100 [21:38<35:42:16, 1298.35s/it]"
     ]
    },
    {
     "name": "stdout",
     "output_type": "stream",
     "text": [
      "\n",
      "Epoch 1 ->\n",
      "Train Loss: 3.358335287078346 | Train ACC: 0.39349217638691325\n",
      "Val Loss: 2.027497092487326 | Val Acc: 0.697452229299363\n"
     ]
    },
    {
     "name": "stderr",
     "output_type": "stream",
     "text": [
      "  2%|▏         | 2/100 [43:21<35:24:52, 1300.94s/it]"
     ]
    },
    {
     "name": "stdout",
     "output_type": "stream",
     "text": [
      "\n",
      "Epoch 2 ->\n",
      "Train Loss: 1.6034906448592374 | Train ACC: 0.737375533428165\n",
      "Val Loss: 1.3678032279868795 | Val Acc: 0.785031847133758\n"
     ]
    },
    {
     "name": "stderr",
     "output_type": "stream",
     "text": [
      "  3%|▎         | 3/100 [1:05:02<35:03:15, 1300.99s/it]"
     ]
    },
    {
     "name": "stdout",
     "output_type": "stream",
     "text": [
      "\n",
      "Epoch 3 ->\n",
      "Train Loss: 1.0229420204187185 | Train ACC: 0.8182788051209103\n",
      "Val Loss: 1.0123754855079257 | Val Acc: 0.804140127388535\n"
     ]
    },
    {
     "name": "stderr",
     "output_type": "stream",
     "text": [
      "  4%|▍         | 4/100 [1:26:41<34:40:36, 1300.38s/it]"
     ]
    },
    {
     "name": "stdout",
     "output_type": "stream",
     "text": [
      "\n",
      "Epoch 4 ->\n",
      "Train Loss: 0.7448615844468791 | Train ACC: 0.857574679943101\n",
      "Val Loss: 1.2728533185247308 | Val Acc: 0.7563694267515924\n"
     ]
    },
    {
     "name": "stderr",
     "output_type": "stream",
     "text": [
      "  5%|▌         | 5/100 [1:48:25<34:20:42, 1301.50s/it]"
     ]
    },
    {
     "name": "stdout",
     "output_type": "stream",
     "text": [
      "\n",
      "Epoch 5 ->\n",
      "Train Loss: 0.592540629213387 | Train ACC: 0.8824679943100996\n",
      "Val Loss: 0.9117461687760653 | Val Acc: 0.8105095541401274\n"
     ]
    },
    {
     "name": "stderr",
     "output_type": "stream",
     "text": [
      "  6%|▌         | 6/100 [2:10:04<33:57:50, 1300.75s/it]"
     ]
    },
    {
     "name": "stdout",
     "output_type": "stream",
     "text": [
      "\n",
      "Epoch 6 ->\n",
      "Train Loss: 0.5349699265361998 | Train ACC: 0.8878022759601707\n",
      "Val Loss: 1.013307085139143 | Val Acc: 0.7611464968152867\n"
     ]
    },
    {
     "name": "stderr",
     "output_type": "stream",
     "text": [
      "  7%|▋         | 7/100 [2:31:43<33:35:19, 1300.21s/it]"
     ]
    },
    {
     "name": "stdout",
     "output_type": "stream",
     "text": [
      "\n",
      "Epoch 7 ->\n",
      "Train Loss: 0.4392137315242179 | Train ACC: 0.909850640113798\n",
      "Val Loss: 1.1327956633191485 | Val Acc: 0.7834394904458599\n"
     ]
    },
    {
     "name": "stderr",
     "output_type": "stream",
     "text": [
      "  8%|▊         | 8/100 [2:53:22<33:13:14, 1299.94s/it]"
     ]
    },
    {
     "name": "stdout",
     "output_type": "stream",
     "text": [
      "\n",
      "Epoch 8 ->\n",
      "Train Loss: 0.3929969808056945 | Train ACC: 0.9196301564722618\n",
      "Val Loss: 1.21474975687422 | Val Acc: 0.7563694267515924\n"
     ]
    },
    {
     "name": "stderr",
     "output_type": "stream",
     "text": [
      "  9%|▉         | 9/100 [3:15:02<32:51:17, 1299.76s/it]"
     ]
    },
    {
     "name": "stdout",
     "output_type": "stream",
     "text": [
      "\n",
      "Epoch 9 ->\n",
      "Train Loss: 0.37155311109476946 | Train ACC: 0.92549786628734\n",
      "Val Loss: 1.1094889404329287 | Val Acc: 0.7611464968152867\n"
     ]
    },
    {
     "name": "stderr",
     "output_type": "stream",
     "text": [
      "  9%|▉         | 9/100 [3:36:40<36:30:53, 1444.54s/it]"
     ]
    },
    {
     "name": "stdout",
     "output_type": "stream",
     "text": [
      "\n",
      "Early Stopping!!! Epoch 10 ->\n",
      "Train Loss: 0.32751844165075683 | Train ACC: 0.9329658605974396\n",
      "Val Loss: 1.1205844822648177 | Val Acc: 0.7914012738853503\n"
     ]
    },
    {
     "name": "stderr",
     "output_type": "stream",
     "text": [
      "\n",
      "Some weights of the model checkpoint at facebook/esm2_t30_150M_UR50D were not used when initializing EsmForSequenceClassification: ['lm_head.dense.weight', 'lm_head.decoder.weight', 'lm_head.layer_norm.weight', 'lm_head.bias', 'lm_head.dense.bias', 'lm_head.layer_norm.bias']\n",
      "- This IS expected if you are initializing EsmForSequenceClassification from the checkpoint of a model trained on another task or with another architecture (e.g. initializing a BertForSequenceClassification model from a BertForPreTraining model).\n",
      "- This IS NOT expected if you are initializing EsmForSequenceClassification from the checkpoint of a model that you expect to be exactly identical (initializing a BertForSequenceClassification model from a BertForSequenceClassification model).\n",
      "Some weights of EsmForSequenceClassification were not initialized from the model checkpoint at facebook/esm2_t30_150M_UR50D and are newly initialized: ['classifier.dense.bias', 'classifier.out_proj.weight', 'classifier.out_proj.bias', 'classifier.dense.weight']\n",
      "You should probably TRAIN this model on a down-stream task to be able to use it for predictions and inference.\n"
     ]
    },
    {
     "name": "stdout",
     "output_type": "stream",
     "text": [
      "Fold 2:\n"
     ]
    },
    {
     "name": "stderr",
     "output_type": "stream",
     "text": [
      "  1%|          | 1/100 [21:43<35:51:08, 1303.72s/it]"
     ]
    },
    {
     "name": "stdout",
     "output_type": "stream",
     "text": [
      "\n",
      "Epoch 1 ->\n",
      "Train Loss: 3.4526772856987895 | Train ACC: 0.38140113798008535\n",
      "Val Loss: 2.180682872700843 | Val Acc: 0.6321656050955414\n"
     ]
    },
    {
     "name": "stderr",
     "output_type": "stream",
     "text": [
      "  2%|▏         | 2/100 [43:27<35:29:15, 1303.63s/it]"
     ]
    },
    {
     "name": "stdout",
     "output_type": "stream",
     "text": [
      "\n",
      "Epoch 2 ->\n",
      "Train Loss: 1.6332653034186975 | Train ACC: 0.7331081081081081\n",
      "Val Loss: 1.3431944807599874 | Val Acc: 0.7531847133757962\n"
     ]
    },
    {
     "name": "stderr",
     "output_type": "stream",
     "text": [
      "  3%|▎         | 3/100 [1:05:09<35:06:21, 1302.90s/it]"
     ]
    },
    {
     "name": "stdout",
     "output_type": "stream",
     "text": [
      "\n",
      "Epoch 3 ->\n",
      "Train Loss: 1.0597067493733394 | Train ACC: 0.8076102418207681\n",
      "Val Loss: 1.0691508159610876 | Val Acc: 0.804140127388535\n"
     ]
    },
    {
     "name": "stderr",
     "output_type": "stream",
     "text": [
      "  4%|▍         | 4/100 [1:26:49<34:43:09, 1301.98s/it]"
     ]
    },
    {
     "name": "stdout",
     "output_type": "stream",
     "text": [
      "\n",
      "Epoch 4 ->\n",
      "Train Loss: 0.8041313719752895 | Train ACC: 0.8465504978662873\n",
      "Val Loss: 1.16812011665979 | Val Acc: 0.7738853503184714\n"
     ]
    },
    {
     "name": "stderr",
     "output_type": "stream",
     "text": [
      "  5%|▌         | 5/100 [1:48:32<34:22:05, 1302.38s/it]"
     ]
    },
    {
     "name": "stdout",
     "output_type": "stream",
     "text": [
      "\n",
      "Epoch 5 ->\n",
      "Train Loss: 0.6526752127358322 | Train ACC: 0.8705547652916074\n",
      "Val Loss: 0.9476232544643579 | Val Acc: 0.7929936305732485\n"
     ]
    },
    {
     "name": "stderr",
     "output_type": "stream",
     "text": [
      "  6%|▌         | 6/100 [2:09:58<33:51:16, 1296.56s/it]"
     ]
    },
    {
     "name": "stdout",
     "output_type": "stream",
     "text": [
      "\n",
      "Epoch 6 ->\n",
      "Train Loss: 0.5703585817018897 | Train ACC: 0.8835348506401138\n",
      "Val Loss: 1.5533231149344544 | Val Acc: 0.6942675159235668\n"
     ]
    },
    {
     "name": "stderr",
     "output_type": "stream",
     "text": [
      "  7%|▋         | 7/100 [2:31:17<33:20:52, 1290.89s/it]"
     ]
    },
    {
     "name": "stdout",
     "output_type": "stream",
     "text": [
      "\n",
      "Epoch 7 ->\n",
      "Train Loss: 0.46265927129550966 | Train ACC: 0.9009601706970128\n",
      "Val Loss: 0.9793965630055328 | Val Acc: 0.7882165605095541\n"
     ]
    },
    {
     "name": "stderr",
     "output_type": "stream",
     "text": [
      "  8%|▊         | 8/100 [2:52:36<32:53:38, 1287.16s/it]"
     ]
    },
    {
     "name": "stdout",
     "output_type": "stream",
     "text": [
      "\n",
      "Epoch 8 ->\n",
      "Train Loss: 0.47565855007025165 | Train ACC: 0.8997155049786629\n",
      "Val Loss: 1.1656667281648108 | Val Acc: 0.7643312101910829\n"
     ]
    },
    {
     "name": "stderr",
     "output_type": "stream",
     "text": [
      "  9%|▉         | 9/100 [3:13:58<32:29:47, 1285.58s/it]"
     ]
    },
    {
     "name": "stdout",
     "output_type": "stream",
     "text": [
      "\n",
      "Epoch 9 ->\n",
      "Train Loss: 0.3605710829251776 | Train ACC: 0.9246088193456614\n",
      "Val Loss: 0.9197437576623337 | Val Acc: 0.8009554140127388\n"
     ]
    },
    {
     "name": "stderr",
     "output_type": "stream",
     "text": [
      " 10%|█         | 10/100 [3:35:31<32:11:53, 1287.93s/it]"
     ]
    },
    {
     "name": "stdout",
     "output_type": "stream",
     "text": [
      "\n",
      "Epoch 10 ->\n",
      "Train Loss: 0.3274397310389505 | Train ACC: 0.9290540540540541\n",
      "Val Loss: 1.1235572694842317 | Val Acc: 0.7563694267515924\n"
     ]
    },
    {
     "name": "stderr",
     "output_type": "stream",
     "text": [
      " 11%|█         | 11/100 [3:57:03<31:51:57, 1288.97s/it]"
     ]
    },
    {
     "name": "stdout",
     "output_type": "stream",
     "text": [
      "\n",
      "Epoch 11 ->\n",
      "Train Loss: 0.33336410512167375 | Train ACC: 0.9334992887624467\n",
      "Val Loss: 1.2002660182043672 | Val Acc: 0.7722929936305732\n"
     ]
    },
    {
     "name": "stderr",
     "output_type": "stream",
     "text": [
      " 12%|█▏        | 12/100 [4:18:34<31:31:29, 1289.65s/it]"
     ]
    },
    {
     "name": "stdout",
     "output_type": "stream",
     "text": [
      "\n",
      "Epoch 12 ->\n",
      "Train Loss: 0.24891678112390772 | Train ACC: 0.9511024182076814\n",
      "Val Loss: 1.2663000974119019 | Val Acc: 0.7436305732484076\n"
     ]
    },
    {
     "name": "stderr",
     "output_type": "stream",
     "text": [
      " 13%|█▎        | 13/100 [4:40:04<31:10:18, 1289.86s/it]"
     ]
    },
    {
     "name": "stdout",
     "output_type": "stream",
     "text": [
      "\n",
      "Epoch 13 ->\n",
      "Train Loss: 0.262270949876491 | Train ACC: 0.9505689900426743\n",
      "Val Loss: 1.2008683405858078 | Val Acc: 0.7722929936305732\n"
     ]
    },
    {
     "name": "stderr",
     "output_type": "stream",
     "text": [
      " 13%|█▎        | 13/100 [5:01:33<33:38:08, 1391.82s/it]"
     ]
    },
    {
     "name": "stdout",
     "output_type": "stream",
     "text": [
      "\n",
      "Early Stopping!!! Epoch 14 ->\n",
      "Train Loss: 0.2016131953974844 | Train ACC: 0.9644381223328592\n",
      "Val Loss: 1.3451074408915986 | Val Acc: 0.7245222929936306\n"
     ]
    },
    {
     "name": "stderr",
     "output_type": "stream",
     "text": [
      "\n",
      "Some weights of the model checkpoint at facebook/esm2_t30_150M_UR50D were not used when initializing EsmForSequenceClassification: ['lm_head.dense.weight', 'lm_head.decoder.weight', 'lm_head.layer_norm.weight', 'lm_head.bias', 'lm_head.dense.bias', 'lm_head.layer_norm.bias']\n",
      "- This IS expected if you are initializing EsmForSequenceClassification from the checkpoint of a model trained on another task or with another architecture (e.g. initializing a BertForSequenceClassification model from a BertForPreTraining model).\n",
      "- This IS NOT expected if you are initializing EsmForSequenceClassification from the checkpoint of a model that you expect to be exactly identical (initializing a BertForSequenceClassification model from a BertForSequenceClassification model).\n",
      "Some weights of EsmForSequenceClassification were not initialized from the model checkpoint at facebook/esm2_t30_150M_UR50D and are newly initialized: ['classifier.dense.bias', 'classifier.out_proj.weight', 'classifier.out_proj.bias', 'classifier.dense.weight']\n",
      "You should probably TRAIN this model on a down-stream task to be able to use it for predictions and inference.\n"
     ]
    },
    {
     "name": "stdout",
     "output_type": "stream",
     "text": [
      "Fold 3:\n"
     ]
    },
    {
     "name": "stderr",
     "output_type": "stream",
     "text": [
      "  1%|          | 1/100 [21:36<35:39:21, 1296.58s/it]"
     ]
    },
    {
     "name": "stdout",
     "output_type": "stream",
     "text": [
      "\n",
      "Epoch 1 ->\n",
      "Train Loss: 3.3407058184847216 | Train ACC: 0.41127311522048365\n",
      "Val Loss: 2.0341401455603587 | Val Acc: 0.6926751592356688\n"
     ]
    },
    {
     "name": "stderr",
     "output_type": "stream",
     "text": [
      "  2%|▏         | 2/100 [43:10<35:15:16, 1295.06s/it]"
     ]
    },
    {
     "name": "stdout",
     "output_type": "stream",
     "text": [
      "\n",
      "Epoch 2 ->\n",
      "Train Loss: 1.5771908295628314 | Train ACC: 0.7443100995732574\n",
      "Val Loss: 1.2816816698285236 | Val Acc: 0.7834394904458599\n"
     ]
    },
    {
     "name": "stderr",
     "output_type": "stream",
     "text": [
      "  3%|▎         | 3/100 [1:04:49<34:56:14, 1296.65s/it]"
     ]
    },
    {
     "name": "stdout",
     "output_type": "stream",
     "text": [
      "\n",
      "Epoch 3 ->\n",
      "Train Loss: 1.0154768292425176 | Train ACC: 0.811877667140825\n",
      "Val Loss: 1.053286545987057 | Val Acc: 0.7834394904458599\n"
     ]
    },
    {
     "name": "stderr",
     "output_type": "stream",
     "text": [
      "  4%|▍         | 4/100 [1:26:22<34:32:41, 1295.43s/it]"
     ]
    },
    {
     "name": "stdout",
     "output_type": "stream",
     "text": [
      "\n",
      "Epoch 4 ->\n",
      "Train Loss: 0.7892139326571719 | Train ACC: 0.8477951635846372\n",
      "Val Loss: 1.0908255713285915 | Val Acc: 0.804140127388535\n"
     ]
    },
    {
     "name": "stderr",
     "output_type": "stream",
     "text": [
      "  5%|▌         | 5/100 [1:47:53<34:08:19, 1293.68s/it]"
     ]
    },
    {
     "name": "stdout",
     "output_type": "stream",
     "text": [
      "\n",
      "Epoch 5 ->\n",
      "Train Loss: 0.6513114281854516 | Train ACC: 0.8703769559032717\n",
      "Val Loss: 1.1435357040079062 | Val Acc: 0.7691082802547771\n"
     ]
    },
    {
     "name": "stderr",
     "output_type": "stream",
     "text": [
      "  6%|▌         | 6/100 [2:09:23<33:45:10, 1292.66s/it]"
     ]
    },
    {
     "name": "stdout",
     "output_type": "stream",
     "text": [
      "\n",
      "Epoch 6 ->\n",
      "Train Loss: 0.5532285337565549 | Train ACC: 0.8851351351351351\n",
      "Val Loss: 1.1400571668425659 | Val Acc: 0.7579617834394905\n"
     ]
    },
    {
     "name": "stderr",
     "output_type": "stream",
     "text": [
      "  7%|▋         | 7/100 [2:30:58<33:24:24, 1293.16s/it]"
     ]
    },
    {
     "name": "stdout",
     "output_type": "stream",
     "text": [
      "\n",
      "Epoch 7 ->\n",
      "Train Loss: 0.46380647462044194 | Train ACC: 0.8982930298719772\n",
      "Val Loss: 0.9621127275438611 | Val Acc: 0.8136942675159236\n"
     ]
    },
    {
     "name": "stderr",
     "output_type": "stream",
     "text": [
      "  8%|▊         | 8/100 [2:52:29<33:02:12, 1292.74s/it]"
     ]
    },
    {
     "name": "stdout",
     "output_type": "stream",
     "text": [
      "\n",
      "Epoch 8 ->\n",
      "Train Loss: 0.4188578347205204 | Train ACC: 0.9126955903271693\n",
      "Val Loss: 1.0377432411406071 | Val Acc: 0.7945859872611465\n"
     ]
    },
    {
     "name": "stderr",
     "output_type": "stream",
     "text": [
      "  9%|▉         | 9/100 [3:13:50<32:34:42, 1288.82s/it]"
     ]
    },
    {
     "name": "stdout",
     "output_type": "stream",
     "text": [
      "\n",
      "Epoch 9 ->\n",
      "Train Loss: 0.33283705943115693 | Train ACC: 0.9324324324324325\n",
      "Val Loss: 1.0479832158222273 | Val Acc: 0.8009554140127388\n"
     ]
    },
    {
     "name": "stderr",
     "output_type": "stream",
     "text": [
      " 10%|█         | 10/100 [3:35:09<32:09:00, 1286.00s/it]"
     ]
    },
    {
     "name": "stdout",
     "output_type": "stream",
     "text": [
      "\n",
      "Epoch 10 ->\n",
      "Train Loss: 0.35776721085633706 | Train ACC: 0.927275960170697\n",
      "Val Loss: 1.096173169663781 | Val Acc: 0.7786624203821656\n"
     ]
    },
    {
     "name": "stderr",
     "output_type": "stream",
     "text": [
      " 11%|█         | 11/100 [3:56:29<31:44:40, 1284.05s/it]"
     ]
    },
    {
     "name": "stdout",
     "output_type": "stream",
     "text": [
      "\n",
      "Epoch 11 ->\n",
      "Train Loss: 0.2848997451109973 | Train ACC: 0.9439900426742532\n",
      "Val Loss: 1.2533523987972766 | Val Acc: 0.7531847133757962\n"
     ]
    },
    {
     "name": "stderr",
     "output_type": "stream",
     "text": [
      " 11%|█         | 11/100 [4:17:49<34:46:04, 1406.34s/it]"
     ]
    },
    {
     "name": "stdout",
     "output_type": "stream",
     "text": [
      "\n",
      "Early Stopping!!! Epoch 12 ->\n",
      "Train Loss: 0.25718950836523136 | Train ACC: 0.9505689900426743\n",
      "Val Loss: 1.6665978468628304 | Val Acc: 0.678343949044586\n"
     ]
    },
    {
     "name": "stderr",
     "output_type": "stream",
     "text": [
      "\n",
      "Some weights of the model checkpoint at facebook/esm2_t30_150M_UR50D were not used when initializing EsmForSequenceClassification: ['lm_head.dense.weight', 'lm_head.decoder.weight', 'lm_head.layer_norm.weight', 'lm_head.bias', 'lm_head.dense.bias', 'lm_head.layer_norm.bias']\n",
      "- This IS expected if you are initializing EsmForSequenceClassification from the checkpoint of a model trained on another task or with another architecture (e.g. initializing a BertForSequenceClassification model from a BertForPreTraining model).\n",
      "- This IS NOT expected if you are initializing EsmForSequenceClassification from the checkpoint of a model that you expect to be exactly identical (initializing a BertForSequenceClassification model from a BertForSequenceClassification model).\n",
      "Some weights of EsmForSequenceClassification were not initialized from the model checkpoint at facebook/esm2_t30_150M_UR50D and are newly initialized: ['classifier.dense.bias', 'classifier.out_proj.weight', 'classifier.out_proj.bias', 'classifier.dense.weight']\n",
      "You should probably TRAIN this model on a down-stream task to be able to use it for predictions and inference.\n"
     ]
    },
    {
     "name": "stdout",
     "output_type": "stream",
     "text": [
      "Fold 4:\n"
     ]
    },
    {
     "name": "stderr",
     "output_type": "stream",
     "text": [
      "  1%|          | 1/100 [21:48<35:58:24, 1308.13s/it]"
     ]
    },
    {
     "name": "stdout",
     "output_type": "stream",
     "text": [
      "\n",
      "Epoch 1 ->\n",
      "Train Loss: 3.4205840286582836 | Train ACC: 0.3902916073968706\n",
      "Val Loss: 2.088738589007763 | Val Acc: 0.660828025477707\n"
     ]
    },
    {
     "name": "stderr",
     "output_type": "stream",
     "text": [
      "  2%|▏         | 2/100 [43:35<35:35:24, 1307.40s/it]"
     ]
    },
    {
     "name": "stdout",
     "output_type": "stream",
     "text": [
      "\n",
      "Epoch 2 ->\n",
      "Train Loss: 1.5882131015010188 | Train ACC: 0.7462660028449503\n",
      "Val Loss: 1.41212349188081 | Val Acc: 0.7515923566878981\n"
     ]
    },
    {
     "name": "stderr",
     "output_type": "stream",
     "text": [
      "  3%|▎         | 3/100 [1:05:21<35:13:01, 1307.03s/it]"
     ]
    },
    {
     "name": "stdout",
     "output_type": "stream",
     "text": [
      "\n",
      "Epoch 3 ->\n",
      "Train Loss: 1.0239006438230298 | Train ACC: 0.8204125177809388\n",
      "Val Loss: 1.2065164790886223 | Val Acc: 0.7722929936305732\n"
     ]
    },
    {
     "name": "stderr",
     "output_type": "stream",
     "text": [
      "  4%|▍         | 4/100 [1:27:07<34:50:44, 1306.71s/it]"
     ]
    },
    {
     "name": "stdout",
     "output_type": "stream",
     "text": [
      "\n",
      "Epoch 4 ->\n",
      "Train Loss: 0.7906628890707559 | Train ACC: 0.846728307254623\n",
      "Val Loss: 1.2003721286346958 | Val Acc: 0.7738853503184714\n"
     ]
    },
    {
     "name": "stderr",
     "output_type": "stream",
     "text": [
      "  5%|▌         | 5/100 [1:48:48<34:25:30, 1304.53s/it]"
     ]
    },
    {
     "name": "stdout",
     "output_type": "stream",
     "text": [
      "\n",
      "Epoch 5 ->\n",
      "Train Loss: 0.662639351757071 | Train ACC: 0.868421052631579\n",
      "Val Loss: 1.3587124242097328 | Val Acc: 0.7388535031847133\n"
     ]
    },
    {
     "name": "stderr",
     "output_type": "stream",
     "text": [
      "  6%|▌         | 6/100 [2:10:29<34:02:02, 1303.43s/it]"
     ]
    },
    {
     "name": "stdout",
     "output_type": "stream",
     "text": [
      "\n",
      "Epoch 6 ->\n",
      "Train Loss: 0.5058350484125359 | Train ACC: 0.8947368421052632\n",
      "Val Loss: 1.4707713967580704 | Val Acc: 0.7308917197452229\n"
     ]
    },
    {
     "name": "stderr",
     "output_type": "stream",
     "text": [
      "  7%|▋         | 7/100 [2:32:11<33:39:26, 1302.86s/it]"
     ]
    },
    {
     "name": "stdout",
     "output_type": "stream",
     "text": [
      "\n",
      "Epoch 7 ->\n",
      "Train Loss: 0.4970056497290529 | Train ACC: 0.8988264580369844\n",
      "Val Loss: 1.446329110918958 | Val Acc: 0.7531847133757962\n"
     ]
    },
    {
     "name": "stderr",
     "output_type": "stream",
     "text": [
      "  8%|▊         | 8/100 [2:53:53<33:17:05, 1302.45s/it]"
     ]
    },
    {
     "name": "stdout",
     "output_type": "stream",
     "text": [
      "\n",
      "Epoch 8 ->\n",
      "Train Loss: 0.4009628306331105 | Train ACC: 0.9208748221906117\n",
      "Val Loss: 1.3272282880238573 | Val Acc: 0.732484076433121\n"
     ]
    },
    {
     "name": "stderr",
     "output_type": "stream",
     "text": [
      "  8%|▊         | 8/100 [3:15:34<37:29:04, 1466.79s/it]"
     ]
    },
    {
     "name": "stdout",
     "output_type": "stream",
     "text": [
      "\n",
      "Early Stopping!!! Epoch 9 ->\n",
      "Train Loss: 0.3845400131296944 | Train ACC: 0.9215860597439545\n",
      "Val Loss: 1.2472844289283558 | Val Acc: 0.7547770700636943\n"
     ]
    },
    {
     "name": "stderr",
     "output_type": "stream",
     "text": [
      "\n",
      "Some weights of the model checkpoint at facebook/esm2_t30_150M_UR50D were not used when initializing EsmForSequenceClassification: ['lm_head.dense.weight', 'lm_head.decoder.weight', 'lm_head.layer_norm.weight', 'lm_head.bias', 'lm_head.dense.bias', 'lm_head.layer_norm.bias']\n",
      "- This IS expected if you are initializing EsmForSequenceClassification from the checkpoint of a model trained on another task or with another architecture (e.g. initializing a BertForSequenceClassification model from a BertForPreTraining model).\n",
      "- This IS NOT expected if you are initializing EsmForSequenceClassification from the checkpoint of a model that you expect to be exactly identical (initializing a BertForSequenceClassification model from a BertForSequenceClassification model).\n",
      "Some weights of EsmForSequenceClassification were not initialized from the model checkpoint at facebook/esm2_t30_150M_UR50D and are newly initialized: ['classifier.dense.bias', 'classifier.out_proj.weight', 'classifier.out_proj.bias', 'classifier.dense.weight']\n",
      "You should probably TRAIN this model on a down-stream task to be able to use it for predictions and inference.\n"
     ]
    },
    {
     "name": "stdout",
     "output_type": "stream",
     "text": [
      "Fold 5:\n"
     ]
    },
    {
     "name": "stderr",
     "output_type": "stream",
     "text": [
      "  1%|          | 1/100 [21:46<35:55:27, 1306.34s/it]"
     ]
    },
    {
     "name": "stdout",
     "output_type": "stream",
     "text": [
      "\n",
      "Epoch 1 ->\n",
      "Train Loss: 3.420704397504055 | Train ACC: 0.39847083926031296\n",
      "Val Loss: 2.2579764027124756 | Val Acc: 0.6544585987261147\n"
     ]
    },
    {
     "name": "stderr",
     "output_type": "stream",
     "text": [
      "  2%|▏         | 2/100 [43:31<35:32:35, 1305.67s/it]"
     ]
    },
    {
     "name": "stdout",
     "output_type": "stream",
     "text": [
      "\n",
      "Epoch 2 ->\n",
      "Train Loss: 1.6361550376227239 | Train ACC: 0.7352418207681366\n",
      "Val Loss: 1.5153120131747928 | Val Acc: 0.732484076433121\n"
     ]
    },
    {
     "name": "stderr",
     "output_type": "stream",
     "text": [
      "  3%|▎         | 3/100 [1:05:13<35:08:08, 1304.00s/it]"
     ]
    },
    {
     "name": "stdout",
     "output_type": "stream",
     "text": [
      "\n",
      "Epoch 3 ->\n",
      "Train Loss: 1.0359544713834399 | Train ACC: 0.8129445234708392\n",
      "Val Loss: 1.7594406489686223 | Val Acc: 0.6735668789808917\n"
     ]
    },
    {
     "name": "stderr",
     "output_type": "stream",
     "text": [
      "  4%|▍         | 4/100 [1:26:57<34:46:20, 1303.96s/it]"
     ]
    },
    {
     "name": "stdout",
     "output_type": "stream",
     "text": [
      "\n",
      "Epoch 4 ->\n",
      "Train Loss: 0.7591159017266411 | Train ACC: 0.8572190611664295\n",
      "Val Loss: 1.065678216196644 | Val Acc: 0.7977707006369427\n"
     ]
    },
    {
     "name": "stderr",
     "output_type": "stream",
     "text": [
      "  5%|▌         | 5/100 [1:48:41<34:24:49, 1304.10s/it]"
     ]
    },
    {
     "name": "stdout",
     "output_type": "stream",
     "text": [
      "\n",
      "Epoch 5 ->\n",
      "Train Loss: 0.6380162792675101 | Train ACC: 0.8712660028449503\n",
      "Val Loss: 1.0286949264644911 | Val Acc: 0.7898089171974523\n"
     ]
    },
    {
     "name": "stderr",
     "output_type": "stream",
     "text": [
      "  6%|▌         | 6/100 [2:10:05<33:52:13, 1297.16s/it]"
     ]
    },
    {
     "name": "stdout",
     "output_type": "stream",
     "text": [
      "\n",
      "Epoch 6 ->\n",
      "Train Loss: 0.5544185604811361 | Train ACC: 0.8844238975817923\n",
      "Val Loss: 0.9991043287649704 | Val Acc: 0.785031847133758\n"
     ]
    },
    {
     "name": "stderr",
     "output_type": "stream",
     "text": [
      "  7%|▋         | 7/100 [2:31:40<33:29:40, 1296.56s/it]"
     ]
    },
    {
     "name": "stdout",
     "output_type": "stream",
     "text": [
      "\n",
      "Epoch 7 ->\n",
      "Train Loss: 0.4468700937061686 | Train ACC: 0.9054054054054054\n",
      "Val Loss: 1.0831466791854731 | Val Acc: 0.7818471337579618\n"
     ]
    },
    {
     "name": "stderr",
     "output_type": "stream",
     "text": [
      "  8%|▊         | 8/100 [2:53:21<33:10:12, 1297.96s/it]"
     ]
    },
    {
     "name": "stdout",
     "output_type": "stream",
     "text": [
      "\n",
      "Epoch 8 ->\n",
      "Train Loss: 0.4470828200271817 | Train ACC: 0.9094950213371266\n",
      "Val Loss: 1.0130304644317336 | Val Acc: 0.7914012738853503\n"
     ]
    },
    {
     "name": "stderr",
     "output_type": "stream",
     "text": [
      "  9%|▉         | 9/100 [3:15:02<32:49:44, 1298.73s/it]"
     ]
    },
    {
     "name": "stdout",
     "output_type": "stream",
     "text": [
      "\n",
      "Epoch 9 ->\n",
      "Train Loss: 0.33690938696558 | Train ACC: 0.9278093883357041\n",
      "Val Loss: 1.1542129534397536 | Val Acc: 0.7786624203821656\n"
     ]
    },
    {
     "name": "stderr",
     "output_type": "stream",
     "text": [
      " 10%|█         | 10/100 [3:36:43<32:29:05, 1299.40s/it]"
     ]
    },
    {
     "name": "stdout",
     "output_type": "stream",
     "text": [
      "\n",
      "Epoch 10 ->\n",
      "Train Loss: 0.3502506776471062 | Train ACC: 0.9276315789473685\n",
      "Val Loss: 1.0732329772595481 | Val Acc: 0.7882165605095541\n"
     ]
    },
    {
     "name": "stderr",
     "output_type": "stream",
     "text": [
      " 11%|█         | 11/100 [3:58:24<32:08:08, 1299.87s/it]"
     ]
    },
    {
     "name": "stdout",
     "output_type": "stream",
     "text": [
      "\n",
      "Epoch 11 ->\n",
      "Train Loss: 0.28344081272437355 | Train ACC: 0.944701280227596\n",
      "Val Loss: 1.060682251485907 | Val Acc: 0.7834394904458599\n"
     ]
    },
    {
     "name": "stderr",
     "output_type": "stream",
     "text": [
      " 11%|█         | 11/100 [4:20:04<35:04:15, 1418.61s/it]"
     ]
    },
    {
     "name": "stdout",
     "output_type": "stream",
     "text": [
      "\n",
      "Early Stopping!!! Epoch 12 ->\n",
      "Train Loss: 0.2458165661325204 | Train ACC: 0.9541251778093883\n",
      "Val Loss: 1.6912381301432327 | Val Acc: 0.6640127388535032\n"
     ]
    },
    {
     "name": "stderr",
     "output_type": "stream",
     "text": [
      "\n",
      "Some weights of the model checkpoint at facebook/esm2_t30_150M_UR50D were not used when initializing EsmForSequenceClassification: ['lm_head.dense.weight', 'lm_head.decoder.weight', 'lm_head.layer_norm.weight', 'lm_head.bias', 'lm_head.dense.bias', 'lm_head.layer_norm.bias']\n",
      "- This IS expected if you are initializing EsmForSequenceClassification from the checkpoint of a model trained on another task or with another architecture (e.g. initializing a BertForSequenceClassification model from a BertForPreTraining model).\n",
      "- This IS NOT expected if you are initializing EsmForSequenceClassification from the checkpoint of a model that you expect to be exactly identical (initializing a BertForSequenceClassification model from a BertForSequenceClassification model).\n",
      "Some weights of EsmForSequenceClassification were not initialized from the model checkpoint at facebook/esm2_t30_150M_UR50D and are newly initialized: ['classifier.dense.bias', 'classifier.out_proj.weight', 'classifier.out_proj.bias', 'classifier.dense.weight']\n",
      "You should probably TRAIN this model on a down-stream task to be able to use it for predictions and inference.\n"
     ]
    },
    {
     "name": "stdout",
     "output_type": "stream",
     "text": [
      "Fold 6:\n"
     ]
    },
    {
     "name": "stderr",
     "output_type": "stream",
     "text": [
      "  1%|          | 1/100 [21:45<35:54:52, 1305.98s/it]"
     ]
    },
    {
     "name": "stdout",
     "output_type": "stream",
     "text": [
      "\n",
      "Epoch 1 ->\n",
      "Train Loss: 3.3371056776552077 | Train ACC: 0.41607396870554764\n",
      "Val Loss: 2.317325802128406 | Val Acc: 0.6130573248407644\n"
     ]
    },
    {
     "name": "stderr",
     "output_type": "stream",
     "text": [
      "  2%|▏         | 2/100 [43:31<35:32:21, 1305.53s/it]"
     ]
    },
    {
     "name": "stdout",
     "output_type": "stream",
     "text": [
      "\n",
      "Epoch 2 ->\n",
      "Train Loss: 1.628708928743984 | Train ACC: 0.730796586059744\n",
      "Val Loss: 1.3390263763914823 | Val Acc: 0.7770700636942676\n"
     ]
    },
    {
     "name": "stderr",
     "output_type": "stream",
     "text": [
      "  3%|▎         | 3/100 [1:05:15<35:09:39, 1304.95s/it]"
     ]
    },
    {
     "name": "stdout",
     "output_type": "stream",
     "text": [
      "\n",
      "Epoch 3 ->\n",
      "Train Loss: 1.0241523657529317 | Train ACC: 0.8154338549075392\n",
      "Val Loss: 1.083022671099159 | Val Acc: 0.7977707006369427\n"
     ]
    },
    {
     "name": "stderr",
     "output_type": "stream",
     "text": [
      "  4%|▍         | 4/100 [1:26:56<34:45:30, 1303.44s/it]"
     ]
    },
    {
     "name": "stdout",
     "output_type": "stream",
     "text": [
      "\n",
      "Epoch 4 ->\n",
      "Train Loss: 0.7480112069152602 | Train ACC: 0.8561522048364154\n",
      "Val Loss: 1.1170173390015106 | Val Acc: 0.7722929936305732\n"
     ]
    },
    {
     "name": "stderr",
     "output_type": "stream",
     "text": [
      "  5%|▌         | 5/100 [1:48:39<34:23:37, 1303.34s/it]"
     ]
    },
    {
     "name": "stdout",
     "output_type": "stream",
     "text": [
      "\n",
      "Epoch 5 ->\n",
      "Train Loss: 0.6295804850933319 | Train ACC: 0.8723328591749644\n",
      "Val Loss: 0.9587318843325517 | Val Acc: 0.8073248407643312\n"
     ]
    },
    {
     "name": "stderr",
     "output_type": "stream",
     "text": [
      "  6%|▌         | 6/100 [2:10:20<34:00:31, 1302.47s/it]"
     ]
    },
    {
     "name": "stdout",
     "output_type": "stream",
     "text": [
      "\n",
      "Epoch 6 ->\n",
      "Train Loss: 0.575792862223607 | Train ACC: 0.8796230440967283\n",
      "Val Loss: 1.0849543204293794 | Val Acc: 0.7722929936305732\n"
     ]
    },
    {
     "name": "stderr",
     "output_type": "stream",
     "text": [
      "  7%|▋         | 7/100 [2:32:00<33:37:33, 1301.65s/it]"
     ]
    },
    {
     "name": "stdout",
     "output_type": "stream",
     "text": [
      "\n",
      "Epoch 7 ->\n",
      "Train Loss: 0.4539726858251168 | Train ACC: 0.9018492176386913\n",
      "Val Loss: 0.9908020232009233 | Val Acc: 0.804140127388535\n"
     ]
    },
    {
     "name": "stderr",
     "output_type": "stream",
     "text": [
      "  8%|▊         | 8/100 [2:53:40<33:15:01, 1301.10s/it]"
     ]
    },
    {
     "name": "stdout",
     "output_type": "stream",
     "text": [
      "\n",
      "Epoch 8 ->\n",
      "Train Loss: 0.4537919277443178 | Train ACC: 0.9025604551920341\n",
      "Val Loss: 1.1238179089987923 | Val Acc: 0.7754777070063694\n"
     ]
    },
    {
     "name": "stderr",
     "output_type": "stream",
     "text": [
      "  9%|▉         | 9/100 [3:15:19<32:52:36, 1300.63s/it]"
     ]
    },
    {
     "name": "stdout",
     "output_type": "stream",
     "text": [
      "\n",
      "Epoch 9 ->\n",
      "Train Loss: 0.38821289176883106 | Train ACC: 0.9185633001422475\n",
      "Val Loss: 1.0184050768192643 | Val Acc: 0.7993630573248408\n"
     ]
    },
    {
     "name": "stderr",
     "output_type": "stream",
     "text": [
      "  9%|▉         | 9/100 [3:37:00<36:34:09, 1446.69s/it]"
     ]
    },
    {
     "name": "stdout",
     "output_type": "stream",
     "text": [
      "\n",
      "Early Stopping!!! Epoch 10 ->\n",
      "Train Loss: 0.33417186172709534 | Train ACC: 0.9311877667140825\n",
      "Val Loss: 1.1445390818355854 | Val Acc: 0.7738853503184714\n"
     ]
    },
    {
     "name": "stderr",
     "output_type": "stream",
     "text": [
      "\n",
      "Some weights of the model checkpoint at facebook/esm2_t30_150M_UR50D were not used when initializing EsmForSequenceClassification: ['lm_head.dense.weight', 'lm_head.decoder.weight', 'lm_head.layer_norm.weight', 'lm_head.bias', 'lm_head.dense.bias', 'lm_head.layer_norm.bias']\n",
      "- This IS expected if you are initializing EsmForSequenceClassification from the checkpoint of a model trained on another task or with another architecture (e.g. initializing a BertForSequenceClassification model from a BertForPreTraining model).\n",
      "- This IS NOT expected if you are initializing EsmForSequenceClassification from the checkpoint of a model that you expect to be exactly identical (initializing a BertForSequenceClassification model from a BertForSequenceClassification model).\n",
      "Some weights of EsmForSequenceClassification were not initialized from the model checkpoint at facebook/esm2_t30_150M_UR50D and are newly initialized: ['classifier.dense.bias', 'classifier.out_proj.weight', 'classifier.out_proj.bias', 'classifier.dense.weight']\n",
      "You should probably TRAIN this model on a down-stream task to be able to use it for predictions and inference.\n"
     ]
    },
    {
     "name": "stdout",
     "output_type": "stream",
     "text": [
      "Fold 7:\n"
     ]
    },
    {
     "name": "stderr",
     "output_type": "stream",
     "text": [
      "  1%|          | 1/100 [21:45<35:54:24, 1305.70s/it]"
     ]
    },
    {
     "name": "stdout",
     "output_type": "stream",
     "text": [
      "\n",
      "Epoch 1 ->\n",
      "Train Loss: 3.347877943996939 | Train ACC: 0.40665007112375534\n",
      "Val Loss: 2.1608611875848407 | Val Acc: 0.678343949044586\n"
     ]
    },
    {
     "name": "stderr",
     "output_type": "stream",
     "text": [
      "  2%|▏         | 2/100 [43:31<35:32:23, 1305.54s/it]"
     ]
    },
    {
     "name": "stdout",
     "output_type": "stream",
     "text": [
      "\n",
      "Epoch 2 ->\n",
      "Train Loss: 1.612941955662681 | Train ACC: 0.7380867709815079\n",
      "Val Loss: 1.542323649451611 | Val Acc: 0.7515923566878981\n"
     ]
    },
    {
     "name": "stderr",
     "output_type": "stream",
     "text": [
      "  3%|▎         | 3/100 [1:05:15<35:09:28, 1304.83s/it]"
     ]
    },
    {
     "name": "stdout",
     "output_type": "stream",
     "text": [
      "\n",
      "Epoch 3 ->\n",
      "Train Loss: 1.070058291932968 | Train ACC: 0.8109886201991465\n",
      "Val Loss: 1.2364259894676268 | Val Acc: 0.767515923566879\n"
     ]
    },
    {
     "name": "stderr",
     "output_type": "stream",
     "text": [
      "  4%|▍         | 4/100 [1:26:58<34:46:58, 1304.36s/it]"
     ]
    },
    {
     "name": "stdout",
     "output_type": "stream",
     "text": [
      "\n",
      "Epoch 4 ->\n",
      "Train Loss: 0.7927935834388496 | Train ACC: 0.8424608819345661\n",
      "Val Loss: 1.0126791505831156 | Val Acc: 0.7786624203821656\n"
     ]
    },
    {
     "name": "stderr",
     "output_type": "stream",
     "text": [
      "  5%|▌         | 5/100 [1:48:39<34:23:09, 1303.05s/it]"
     ]
    },
    {
     "name": "stdout",
     "output_type": "stream",
     "text": [
      "\n",
      "Epoch 5 ->\n",
      "Train Loss: 0.7019577998135392 | Train ACC: 0.8616642958748222\n",
      "Val Loss: 1.037608514148386 | Val Acc: 0.7977707006369427\n"
     ]
    },
    {
     "name": "stderr",
     "output_type": "stream",
     "text": [
      "  6%|▌         | 6/100 [2:10:20<34:00:13, 1302.27s/it]"
     ]
    },
    {
     "name": "stdout",
     "output_type": "stream",
     "text": [
      "\n",
      "Epoch 6 ->\n",
      "Train Loss: 0.5642033249151709 | Train ACC: 0.8814011379800853\n",
      "Val Loss: 1.2907734925674785 | Val Acc: 0.7468152866242038\n"
     ]
    },
    {
     "name": "stderr",
     "output_type": "stream",
     "text": [
      "  7%|▋         | 7/100 [2:32:01<33:37:52, 1301.85s/it]"
     ]
    },
    {
     "name": "stdout",
     "output_type": "stream",
     "text": [
      "\n",
      "Epoch 7 ->\n",
      "Train Loss: 0.5146441010521144 | Train ACC: 0.8881578947368421\n",
      "Val Loss: 1.127462562185469 | Val Acc: 0.7691082802547771\n"
     ]
    },
    {
     "name": "stderr",
     "output_type": "stream",
     "text": [
      "  8%|▊         | 8/100 [2:53:41<33:15:34, 1301.46s/it]"
     ]
    },
    {
     "name": "stdout",
     "output_type": "stream",
     "text": [
      "\n",
      "Epoch 8 ->\n",
      "Train Loss: 0.45592838240744993 | Train ACC: 0.9043385490753911\n",
      "Val Loss: 1.095432326980647 | Val Acc: 0.7802547770700637\n"
     ]
    },
    {
     "name": "stderr",
     "output_type": "stream",
     "text": [
      "  9%|▉         | 9/100 [3:15:22<32:53:21, 1301.12s/it]"
     ]
    },
    {
     "name": "stdout",
     "output_type": "stream",
     "text": [
      "\n",
      "Epoch 9 ->\n",
      "Train Loss: 0.32688863096681886 | Train ACC: 0.9326102418207681\n",
      "Val Loss: 1.0881103272282868 | Val Acc: 0.7802547770700637\n"
     ]
    },
    {
     "name": "stderr",
     "output_type": "stream",
     "text": [
      "  9%|▉         | 9/100 [3:37:02<36:34:32, 1446.95s/it]"
     ]
    },
    {
     "name": "stdout",
     "output_type": "stream",
     "text": [
      "\n",
      "Early Stopping!!! Epoch 10 ->\n",
      "Train Loss: 0.38020286266294545 | Train ACC: 0.919452347083926\n",
      "Val Loss: 1.4294226927249722 | Val Acc: 0.7245222929936306\n"
     ]
    },
    {
     "name": "stderr",
     "output_type": "stream",
     "text": [
      "\n",
      "Some weights of the model checkpoint at facebook/esm2_t30_150M_UR50D were not used when initializing EsmForSequenceClassification: ['lm_head.dense.weight', 'lm_head.decoder.weight', 'lm_head.layer_norm.weight', 'lm_head.bias', 'lm_head.dense.bias', 'lm_head.layer_norm.bias']\n",
      "- This IS expected if you are initializing EsmForSequenceClassification from the checkpoint of a model trained on another task or with another architecture (e.g. initializing a BertForSequenceClassification model from a BertForPreTraining model).\n",
      "- This IS NOT expected if you are initializing EsmForSequenceClassification from the checkpoint of a model that you expect to be exactly identical (initializing a BertForSequenceClassification model from a BertForSequenceClassification model).\n",
      "Some weights of EsmForSequenceClassification were not initialized from the model checkpoint at facebook/esm2_t30_150M_UR50D and are newly initialized: ['classifier.dense.bias', 'classifier.out_proj.weight', 'classifier.out_proj.bias', 'classifier.dense.weight']\n",
      "You should probably TRAIN this model on a down-stream task to be able to use it for predictions and inference.\n"
     ]
    },
    {
     "name": "stdout",
     "output_type": "stream",
     "text": [
      "Fold 8:\n"
     ]
    },
    {
     "name": "stderr",
     "output_type": "stream",
     "text": [
      "  1%|          | 1/100 [21:45<35:53:23, 1305.09s/it]"
     ]
    },
    {
     "name": "stdout",
     "output_type": "stream",
     "text": [
      "\n",
      "Epoch 1 ->\n",
      "Train Loss: 3.376278880374191 | Train ACC: 0.3993598862019915\n",
      "Val Loss: 2.1482880414481373 | Val Acc: 0.6321656050955414\n"
     ]
    },
    {
     "name": "stderr",
     "output_type": "stream",
     "text": [
      "  2%|▏         | 2/100 [43:29<35:31:02, 1304.72s/it]"
     ]
    },
    {
     "name": "stdout",
     "output_type": "stream",
     "text": [
      "\n",
      "Epoch 2 ->\n",
      "Train Loss: 1.6240549404359559 | Train ACC: 0.7473328591749644\n",
      "Val Loss: 1.356456142393457 | Val Acc: 0.7691082802547771\n"
     ]
    },
    {
     "name": "stderr",
     "output_type": "stream",
     "text": [
      "  3%|▎         | 3/100 [1:05:11<35:07:24, 1303.55s/it]"
     ]
    },
    {
     "name": "stdout",
     "output_type": "stream",
     "text": [
      "\n",
      "Epoch 3 ->\n",
      "Train Loss: 1.013896756515352 | Train ACC: 0.8205903271692745\n",
      "Val Loss: 1.054592698646389 | Val Acc: 0.7945859872611465\n"
     ]
    },
    {
     "name": "stderr",
     "output_type": "stream",
     "text": [
      "  4%|▍         | 4/100 [1:26:51<34:43:16, 1302.05s/it]"
     ]
    },
    {
     "name": "stdout",
     "output_type": "stream",
     "text": [
      "\n",
      "Epoch 4 ->\n",
      "Train Loss: 0.8169357763341023 | Train ACC: 0.8451280227596017\n",
      "Val Loss: 1.1360715958022862 | Val Acc: 0.7563694267515924\n"
     ]
    },
    {
     "name": "stderr",
     "output_type": "stream",
     "text": [
      "  5%|▌         | 5/100 [1:48:34<34:22:06, 1302.38s/it]"
     ]
    },
    {
     "name": "stdout",
     "output_type": "stream",
     "text": [
      "\n",
      "Epoch 5 ->\n",
      "Train Loss: 0.6556164803325197 | Train ACC: 0.8680654338549075\n",
      "Val Loss: 1.0405862660971796 | Val Acc: 0.7834394904458599\n"
     ]
    },
    {
     "name": "stderr",
     "output_type": "stream",
     "text": [
      "  6%|▌         | 6/100 [2:10:14<33:59:09, 1301.59s/it]"
     ]
    },
    {
     "name": "stdout",
     "output_type": "stream",
     "text": [
      "\n",
      "Epoch 6 ->\n",
      "Train Loss: 0.5335771516747084 | Train ACC: 0.8878022759601707\n",
      "Val Loss: 1.0859812018105606 | Val Acc: 0.767515923566879\n"
     ]
    },
    {
     "name": "stderr",
     "output_type": "stream",
     "text": [
      "  7%|▋         | 7/100 [2:31:54<33:36:37, 1301.05s/it]"
     ]
    },
    {
     "name": "stdout",
     "output_type": "stream",
     "text": [
      "\n",
      "Epoch 7 ->\n",
      "Train Loss: 0.4606539229100642 | Train ACC: 0.9009601706970128\n",
      "Val Loss: 1.173172034696931 | Val Acc: 0.7691082802547771\n"
     ]
    },
    {
     "name": "stderr",
     "output_type": "stream",
     "text": [
      "  8%|▊         | 8/100 [2:53:33<33:14:03, 1300.47s/it]"
     ]
    },
    {
     "name": "stdout",
     "output_type": "stream",
     "text": [
      "\n",
      "Epoch 8 ->\n",
      "Train Loss: 0.4072372086868114 | Train ACC: 0.914651493598862\n",
      "Val Loss: 1.28798203116615 | Val Acc: 0.7627388535031847\n"
     ]
    },
    {
     "name": "stderr",
     "output_type": "stream",
     "text": [
      "  9%|▉         | 9/100 [3:15:13<32:51:55, 1300.17s/it]"
     ]
    },
    {
     "name": "stdout",
     "output_type": "stream",
     "text": [
      "\n",
      "Epoch 9 ->\n",
      "Train Loss: 0.3677333721044509 | Train ACC: 0.92549786628734\n",
      "Val Loss: 1.0594041259591556 | Val Acc: 0.7945859872611465\n"
     ]
    },
    {
     "name": "stderr",
     "output_type": "stream",
     "text": [
      " 10%|█         | 10/100 [3:36:53<32:30:18, 1300.21s/it]"
     ]
    },
    {
     "name": "stdout",
     "output_type": "stream",
     "text": [
      "\n",
      "Epoch 10 ->\n",
      "Train Loss: 0.2851472327099506 | Train ACC: 0.9461237553342816\n",
      "Val Loss: 1.302477897818135 | Val Acc: 0.7277070063694268\n"
     ]
    },
    {
     "name": "stderr",
     "output_type": "stream",
     "text": [
      " 10%|█         | 10/100 [3:58:33<35:47:04, 1431.38s/it]"
     ]
    },
    {
     "name": "stdout",
     "output_type": "stream",
     "text": [
      "\n",
      "Early Stopping!!! Epoch 11 ->\n",
      "Train Loss: 0.2973361294607302 | Train ACC: 0.9388335704125178\n",
      "Val Loss: 1.360551783981122 | Val Acc: 0.7181528662420382\n"
     ]
    },
    {
     "name": "stderr",
     "output_type": "stream",
     "text": [
      "\n",
      "Some weights of the model checkpoint at facebook/esm2_t30_150M_UR50D were not used when initializing EsmForSequenceClassification: ['lm_head.dense.weight', 'lm_head.decoder.weight', 'lm_head.layer_norm.weight', 'lm_head.bias', 'lm_head.dense.bias', 'lm_head.layer_norm.bias']\n",
      "- This IS expected if you are initializing EsmForSequenceClassification from the checkpoint of a model trained on another task or with another architecture (e.g. initializing a BertForSequenceClassification model from a BertForPreTraining model).\n",
      "- This IS NOT expected if you are initializing EsmForSequenceClassification from the checkpoint of a model that you expect to be exactly identical (initializing a BertForSequenceClassification model from a BertForSequenceClassification model).\n",
      "Some weights of EsmForSequenceClassification were not initialized from the model checkpoint at facebook/esm2_t30_150M_UR50D and are newly initialized: ['classifier.dense.bias', 'classifier.out_proj.weight', 'classifier.out_proj.bias', 'classifier.dense.weight']\n",
      "You should probably TRAIN this model on a down-stream task to be able to use it for predictions and inference.\n"
     ]
    },
    {
     "name": "stdout",
     "output_type": "stream",
     "text": [
      "Fold 9:\n"
     ]
    },
    {
     "name": "stderr",
     "output_type": "stream",
     "text": [
      "  1%|          | 1/100 [21:45<35:53:31, 1305.17s/it]"
     ]
    },
    {
     "name": "stdout",
     "output_type": "stream",
     "text": [
      "\n",
      "Epoch 1 ->\n",
      "Train Loss: 3.402237766985364 | Train ACC: 0.39349217638691325\n",
      "Val Loss: 2.5990823269554766 | Val Acc: 0.5907643312101911\n"
     ]
    },
    {
     "name": "stderr",
     "output_type": "stream",
     "text": [
      "  2%|▏         | 2/100 [43:30<35:31:47, 1305.18s/it]"
     ]
    },
    {
     "name": "stdout",
     "output_type": "stream",
     "text": [
      "\n",
      "Epoch 2 ->\n",
      "Train Loss: 1.6250861162481403 | Train ACC: 0.7354196301564723\n",
      "Val Loss: 1.3555690849876139 | Val Acc: 0.7722929936305732\n"
     ]
    },
    {
     "name": "stderr",
     "output_type": "stream",
     "text": [
      "  3%|▎         | 3/100 [1:05:19<35:13:10, 1307.12s/it]"
     ]
    },
    {
     "name": "stdout",
     "output_type": "stream",
     "text": [
      "\n",
      "Epoch 3 ->\n",
      "Train Loss: 1.061481970877706 | Train ACC: 0.8086770981507824\n",
      "Val Loss: 1.2618347995078107 | Val Acc: 0.7595541401273885\n"
     ]
    },
    {
     "name": "stderr",
     "output_type": "stream",
     "text": [
      "  4%|▍         | 4/100 [1:27:08<34:52:14, 1307.65s/it]"
     ]
    },
    {
     "name": "stdout",
     "output_type": "stream",
     "text": [
      "\n",
      "Epoch 4 ->\n",
      "Train Loss: 0.8066959501513059 | Train ACC: 0.8453058321479374\n",
      "Val Loss: 0.9932411513498919 | Val Acc: 0.7914012738853503\n"
     ]
    },
    {
     "name": "stderr",
     "output_type": "stream",
     "text": [
      "  5%|▌         | 5/100 [1:48:49<34:27:04, 1305.52s/it]"
     ]
    },
    {
     "name": "stdout",
     "output_type": "stream",
     "text": [
      "\n",
      "Epoch 5 ->\n",
      "Train Loss: 0.6461009074964297 | Train ACC: 0.8691322901849218\n",
      "Val Loss: 1.047645739540695 | Val Acc: 0.7802547770700637\n"
     ]
    },
    {
     "name": "stderr",
     "output_type": "stream",
     "text": [
      "  6%|▌         | 6/100 [2:10:32<34:03:28, 1304.35s/it]"
     ]
    },
    {
     "name": "stdout",
     "output_type": "stream",
     "text": [
      "\n",
      "Epoch 6 ->\n",
      "Train Loss: 0.5775501024664232 | Train ACC: 0.8803342816500711\n",
      "Val Loss: 1.004109342457952 | Val Acc: 0.7961783439490446\n"
     ]
    },
    {
     "name": "stderr",
     "output_type": "stream",
     "text": [
      "  7%|▋         | 7/100 [2:32:14<33:40:36, 1303.62s/it]"
     ]
    },
    {
     "name": "stdout",
     "output_type": "stream",
     "text": [
      "\n",
      "Epoch 7 ->\n",
      "Train Loss: 0.45427666105340586 | Train ACC: 0.9046941678520626\n",
      "Val Loss: 1.273835522211661 | Val Acc: 0.7420382165605095\n"
     ]
    },
    {
     "name": "stderr",
     "output_type": "stream",
     "text": [
      "  8%|▊         | 8/100 [2:53:56<33:18:27, 1303.34s/it]"
     ]
    },
    {
     "name": "stdout",
     "output_type": "stream",
     "text": [
      "\n",
      "Epoch 8 ->\n",
      "Train Loss: 0.4613313666474641 | Train ACC: 0.902027027027027\n",
      "Val Loss: 1.2425854742930384 | Val Acc: 0.7468152866242038\n"
     ]
    },
    {
     "name": "stderr",
     "output_type": "stream",
     "text": [
      "  9%|▉         | 9/100 [3:15:40<32:56:37, 1303.27s/it]"
     ]
    },
    {
     "name": "stdout",
     "output_type": "stream",
     "text": [
      "\n",
      "Epoch 9 ->\n",
      "Train Loss: 0.3722485728438673 | Train ACC: 0.9217638691322901\n",
      "Val Loss: 1.1819203480645113 | Val Acc: 0.767515923566879\n"
     ]
    },
    {
     "name": "stderr",
     "output_type": "stream",
     "text": [
      "  9%|▉         | 9/100 [3:37:22<36:37:58, 1449.21s/it]"
     ]
    },
    {
     "name": "stdout",
     "output_type": "stream",
     "text": [
      "\n",
      "Early Stopping!!! Epoch 10 ->\n",
      "Train Loss: 0.3295799205947408 | Train ACC: 0.9370554765291608\n",
      "Val Loss: 1.311169470986648 | Val Acc: 0.7531847133757962\n"
     ]
    },
    {
     "name": "stderr",
     "output_type": "stream",
     "text": [
      "\n",
      "Some weights of the model checkpoint at facebook/esm2_t30_150M_UR50D were not used when initializing EsmForSequenceClassification: ['lm_head.dense.weight', 'lm_head.decoder.weight', 'lm_head.layer_norm.weight', 'lm_head.bias', 'lm_head.dense.bias', 'lm_head.layer_norm.bias']\n",
      "- This IS expected if you are initializing EsmForSequenceClassification from the checkpoint of a model trained on another task or with another architecture (e.g. initializing a BertForSequenceClassification model from a BertForPreTraining model).\n",
      "- This IS NOT expected if you are initializing EsmForSequenceClassification from the checkpoint of a model that you expect to be exactly identical (initializing a BertForSequenceClassification model from a BertForSequenceClassification model).\n",
      "Some weights of EsmForSequenceClassification were not initialized from the model checkpoint at facebook/esm2_t30_150M_UR50D and are newly initialized: ['classifier.dense.bias', 'classifier.out_proj.weight', 'classifier.out_proj.bias', 'classifier.dense.weight']\n",
      "You should probably TRAIN this model on a down-stream task to be able to use it for predictions and inference.\n"
     ]
    },
    {
     "name": "stdout",
     "output_type": "stream",
     "text": [
      "Fold 10:\n"
     ]
    },
    {
     "name": "stderr",
     "output_type": "stream",
     "text": [
      "  1%|          | 1/100 [21:48<35:58:29, 1308.18s/it]"
     ]
    },
    {
     "name": "stdout",
     "output_type": "stream",
     "text": [
      "\n",
      "Epoch 1 ->\n",
      "Train Loss: 3.3618633293711553 | Train ACC: 0.4161336176261549\n",
      "Val Loss: 2.0700855537389335 | Val Acc: 0.7147435897435898\n"
     ]
    },
    {
     "name": "stderr",
     "output_type": "stream",
     "text": [
      "  2%|▏         | 2/100 [43:34<35:35:10, 1307.25s/it]"
     ]
    },
    {
     "name": "stdout",
     "output_type": "stream",
     "text": [
      "\n",
      "Epoch 2 ->\n",
      "Train Loss: 1.5955992784952135 | Train ACC: 0.750177683013504\n",
      "Val Loss: 1.2773950329432502 | Val Acc: 0.7948717948717948\n"
     ]
    },
    {
     "name": "stderr",
     "output_type": "stream",
     "text": [
      "  3%|▎         | 3/100 [1:05:21<35:13:04, 1307.06s/it]"
     ]
    },
    {
     "name": "stdout",
     "output_type": "stream",
     "text": [
      "\n",
      "Epoch 3 ->\n",
      "Train Loss: 1.0070512905086748 | Train ACC: 0.8264036958066808\n",
      "Val Loss: 1.0797368586779788 | Val Acc: 0.7916666666666666\n"
     ]
    },
    {
     "name": "stderr",
     "output_type": "stream",
     "text": [
      "  4%|▍         | 4/100 [1:27:07<34:50:39, 1306.66s/it]"
     ]
    },
    {
     "name": "stdout",
     "output_type": "stream",
     "text": [
      "\n",
      "Epoch 4 ->\n",
      "Train Loss: 0.7428819105616892 | Train ACC: 0.8585643212508884\n",
      "Val Loss: 1.0108828283547877 | Val Acc: 0.8076923076923077\n"
     ]
    },
    {
     "name": "stderr",
     "output_type": "stream",
     "text": [
      "  5%|▌         | 5/100 [1:48:50<34:26:52, 1305.40s/it]"
     ]
    },
    {
     "name": "stdout",
     "output_type": "stream",
     "text": [
      "\n",
      "Epoch 5 ->\n",
      "Train Loss: 0.6279536734699843 | Train ACC: 0.8736673773987207\n",
      "Val Loss: 1.0732802539371336 | Val Acc: 0.7676282051282052\n"
     ]
    },
    {
     "name": "stderr",
     "output_type": "stream",
     "text": [
      "  6%|▌         | 6/100 [2:10:33<34:03:25, 1304.32s/it]"
     ]
    },
    {
     "name": "stdout",
     "output_type": "stream",
     "text": [
      "\n",
      "Epoch 6 ->\n",
      "Train Loss: 0.5198995253599402 | Train ACC: 0.8937455579246624\n",
      "Val Loss: 1.0340118475724012 | Val Acc: 0.8012820512820513\n"
     ]
    },
    {
     "name": "stderr",
     "output_type": "stream",
     "text": [
      "  7%|▋         | 7/100 [2:32:19<33:42:36, 1304.91s/it]"
     ]
    },
    {
     "name": "stdout",
     "output_type": "stream",
     "text": [
      "\n",
      "Epoch 7 ->\n",
      "Train Loss: 0.4547638451672598 | Train ACC: 0.9074271499644634\n",
      "Val Loss: 0.9060105353575916 | Val Acc: 0.8060897435897436\n"
     ]
    },
    {
     "name": "stderr",
     "output_type": "stream",
     "text": [
      "  8%|▊         | 8/100 [2:54:02<33:19:54, 1304.29s/it]"
     ]
    },
    {
     "name": "stdout",
     "output_type": "stream",
     "text": [
      "\n",
      "Epoch 8 ->\n",
      "Train Loss: 0.41765788058282355 | Train ACC: 0.912046908315565\n",
      "Val Loss: 1.2483568732561066 | Val Acc: 0.7644230769230769\n"
     ]
    },
    {
     "name": "stderr",
     "output_type": "stream",
     "text": [
      "  9%|▉         | 9/100 [3:15:44<32:57:15, 1303.69s/it]"
     ]
    },
    {
     "name": "stdout",
     "output_type": "stream",
     "text": [
      "\n",
      "Epoch 9 ->\n",
      "Train Loss: 0.3222028937726265 | Train ACC: 0.9319474058280028\n",
      "Val Loss: 1.1445326476375788 | Val Acc: 0.7596153846153846\n"
     ]
    },
    {
     "name": "stderr",
     "output_type": "stream",
     "text": [
      " 10%|█         | 10/100 [3:37:27<32:35:01, 1303.35s/it]"
     ]
    },
    {
     "name": "stdout",
     "output_type": "stream",
     "text": [
      "\n",
      "Epoch 10 ->\n",
      "Train Loss: 0.3547310237623831 | Train ACC: 0.927683013503909\n",
      "Val Loss: 1.1700596626048 | Val Acc: 0.7612179487179487\n"
     ]
    },
    {
     "name": "stderr",
     "output_type": "stream",
     "text": [
      " 11%|█         | 11/100 [3:59:10<32:13:16, 1303.33s/it]"
     ]
    },
    {
     "name": "stdout",
     "output_type": "stream",
     "text": [
      "\n",
      "Epoch 11 ->\n",
      "Train Loss: 0.26813027420324126 | Train ACC: 0.9465174129353234\n",
      "Val Loss: 1.1562808164326737 | Val Acc: 0.7692307692307693\n"
     ]
    },
    {
     "name": "stderr",
     "output_type": "stream",
     "text": [
      " 11%|█         | 11/100 [4:20:52<35:10:45, 1422.99s/it]"
     ]
    },
    {
     "name": "stdout",
     "output_type": "stream",
     "text": [
      "\n",
      "Early Stopping!!! Epoch 12 ->\n",
      "Train Loss: 0.28258727354777935 | Train ACC: 0.9456289978678039\n",
      "Val Loss: 1.6481887801723458 | Val Acc: 0.6682692307692307\n"
     ]
    },
    {
     "name": "stderr",
     "output_type": "stream",
     "text": [
      "\n"
     ]
    }
   ],
   "source": [
    "# set seed\n",
    "seed = 420\n",
    "random.seed(seed)\n",
    "np.random.seed(seed)\n",
    "torch.manual_seed(seed)\n",
    "torch.cuda.manual_seed_all(seed)\n",
    "\n",
    "complete_stats = {} # dictionary to store stats \n",
    "\n",
    "get_acc = Accuracy(task=\"multiclass\", num_classes=num_classes) # accuracy function\n",
    "get_acc.to(device) # move accuracy to device\n",
    "\n",
    "split = \"stratify\" # specify split type\n",
    "if split == \"stratify\": # stratified split\n",
    "    kf = StratifiedKFold(n_splits=10, shuffle=True) \n",
    "    splits = kf.split(sequences, folds)\n",
    "else: # kfold split\n",
    "    kf = KFold(n_splits=10, shuffle=True)\n",
    "    splits = kf.split(sequences)\n",
    "\n",
    "for i, (train_index, val_index) in enumerate(splits): # iterate over the splits\n",
    "    foldname = \"Fold \" + str(i+1) # fold name\n",
    "    train_subsampler = SubsetRandomSampler(train_index) # train sampler\n",
    "    val_subsampler = SubsetSequentialSampler(val_index) # validation sampler\n",
    "    trainloader = DataLoader(ds, batch_size=batch_size, sampler=train_subsampler) # train loader\n",
    "    valloader = DataLoader(ds, batch_size=batch_size, sampler=val_subsampler) # validation loader\n",
    "\n",
    "    config = AutoConfig.from_pretrained(checkpoint) # get model config\n",
    "    config.classifier_dropout = 0.1 # set dropout\n",
    "    config.attention_dropout = 0.1 # set attention dropout\n",
    "    config.num_labels = num_classes # set number of classes\n",
    "\n",
    "    model = AutoModelForSequenceClassification.from_pretrained(checkpoint, config=config) # get model\n",
    "    if parallel == \"yes\": # use parallel processing\n",
    "        model = nn.DataParallel(model)\n",
    "    model.to(device) # move model to device\n",
    "\n",
    "    optimizer = Adam(model.parameters(), lr=5e-5, weight_decay=1e-3) # optimizer\n",
    "    early_stopper = EarlyStopper(patience=5, min_delta=0.025) # early stopper\n",
    "    training_steps = len(trainloader) * epochs # training steps\n",
    "    scheduler = get_linear_schedule_with_warmup(optimizer, num_warmup_steps=0, num_training_steps=training_steps) # scheduler (no need to use if Adam is being used)\n",
    "    \n",
    "    split_stats = {\"train\": {\"loss\": [], \"acc\": []}, \n",
    "                   \"val\": {\"loss\": [], \"acc\": []}} # dictionary to store stats for each split\n",
    "    \n",
    "    print(foldname + \":\") # print fold name\n",
    "    for epoch in tqdm(range(epochs)): # iterate over the epochs\n",
    "        # initialize variables\n",
    "        total_train_loss = 0\n",
    "        total_train_acc = 0\n",
    "        avg_train_loss = 0\n",
    "        avg_train_acc = 0\n",
    "\n",
    "        model.train() # set model to train mode\n",
    "        for step, batch in enumerate(trainloader): # iterate over the train loader\n",
    "            input_ids = batch[\"input_ids\"].to(device) # move input ids to device\n",
    "            attention_mask = batch[\"attention_mask\"].to(device) # move attention mask to device\n",
    "            labels = torch.Tensor(batch[\"label\"]).long().to(device) # move labels to device\n",
    "            outputs = model(input_ids, attention_mask=attention_mask, labels=labels) # get model outputs\n",
    "            loss = outputs[\"loss\"] # get loss\n",
    "            preds = outputs[\"logits\"].max(axis=1)[1] # get predictions\n",
    "            optimizer.zero_grad() # zero gradients\n",
    "            loss.backward() # backpropagate\n",
    "            optimizer.step() # update weights\n",
    "            scheduler.step() # update learning rate\n",
    "            acc = get_acc(preds, labels) # get accuracy\n",
    "            total_train_loss += loss.item() # update total train loss\n",
    "            total_train_acc += acc.item() # update total train accuracy\n",
    "\n",
    "        # calculate average train loss and accuracy\n",
    "        avg_train_loss = total_train_loss / len(trainloader)\n",
    "        avg_train_acc = total_train_acc / len(trainloader)\n",
    "        split_stats[\"train\"][\"loss\"].append(avg_train_loss)\n",
    "        split_stats[\"train\"][\"acc\"].append(avg_train_acc)\n",
    "\n",
    "        # initialize variables\n",
    "        total_val_acc = 0\n",
    "        total_val_loss = 0\n",
    "        avg_val_acc = 0\n",
    "        avg_val_loss = 0\n",
    "\n",
    "        model.eval() # set model to evaluation mode\n",
    "        with torch.no_grad(): # do not calculate gradients\n",
    "            for step, batch in enumerate(valloader): # iterate over the validation loader\n",
    "                input_ids = batch[\"input_ids\"].to(device) # move input ids to device\n",
    "                attention_mask = batch[\"attention_mask\"].to(device) # move attention mask to device\n",
    "                labels = batch[\"label\"].long().to(device) # move labels to device\n",
    "                outputs = model(input_ids, attention_mask=attention_mask, labels=labels) # get model outputs\n",
    "                preds = outputs[\"logits\"].max(axis=1)[1] # get predictions\n",
    "                acc = get_acc(preds, labels) # get accuracy\n",
    "                total_val_loss += outputs[\"loss\"].item() # update total validation loss\n",
    "                total_val_acc += acc.item() # update total validation accuracy\n",
    "\n",
    "        # calculate average validation loss and accuracy\n",
    "        avg_val_loss = total_val_loss / len(valloader)\n",
    "        avg_val_acc = total_val_acc / len(valloader)\n",
    "        split_stats[\"val\"][\"loss\"].append(avg_val_loss)\n",
    "        split_stats[\"val\"][\"acc\"].append(avg_val_acc)\n",
    "\n",
    "        if early_stopper.early_stop(avg_val_loss, model, optimizer): # check if early stopping is to be done\n",
    "            print(f\"\\nEarly Stopping!!! Epoch {epoch+1} ->\\nTrain Loss: {avg_train_loss} | Train ACC: {avg_train_acc}\\nVal Loss: {avg_val_loss} | Val Acc: {avg_val_acc}\")\n",
    "            break\n",
    "\n",
    "        print(f\"\\nEpoch {epoch+1} ->\\nTrain Loss: {avg_train_loss} | Train ACC: {avg_train_acc}\\nVal Loss: {avg_val_loss} | Val Acc: {avg_val_acc}\")\n",
    "\n",
    "    complete_stats[foldname] = split_stats # update complete stats"
   ]
  },
  {
   "cell_type": "code",
   "execution_count": 12,
   "metadata": {
    "executionInfo": {
     "elapsed": 10,
     "status": "aborted",
     "timestamp": 1678456562037,
     "user": {
      "displayName": "SANCHIT GOEL IIIT Dharwad",
      "userId": "03449467017154576853"
     },
     "user_tz": -330
    },
    "id": "BetcfMYQAAif"
   },
   "outputs": [
    {
     "name": "stdout",
     "output_type": "stream",
     "text": [
      "Train accuracies:\n",
      " [0.9329658605974396, 0.9644381223328592, 0.9505689900426743, 0.9215860597439545, 0.9541251778093883, 0.9311877667140825, 0.9326102418207681, 0.9461237553342816, 0.9370554765291608, 0.9465174129353234]\n",
      "Validation accuracies:\n",
      " [0.8105095541401274, 0.804140127388535, 0.8136942675159236, 0.7738853503184714, 0.7977707006369427, 0.8073248407643312, 0.7977707006369427, 0.7945859872611465, 0.7961783439490446, 0.8076923076923077]\n",
      "Average Train Acc: 0.9417178863859931 | Average Val Acc: 0.8003552180303772\n"
     ]
    }
   ],
   "source": [
    "splits = list(complete_stats.keys())\n",
    "train_acc = []\n",
    "val_acc = []\n",
    "for split in splits:\n",
    "    train_acc.append(max(complete_stats[split][\"train\"][\"acc\"]))\n",
    "    val_acc.append(max(complete_stats[split][\"val\"][\"acc\"]))\n",
    "max_train_acc = sum(train_acc) / len(splits)\n",
    "max_val_acc = sum(val_acc) / len(splits)\n",
    "print(\"Train accuracies:\\n\", train_acc)\n",
    "print(\"Validation accuracies:\\n\", val_acc)\n",
    "print(f\"Average Train Acc: {max_train_acc} | Average Val Acc: {max_val_acc}\")"
   ]
  },
  {
   "cell_type": "code",
   "execution_count": null,
   "metadata": {
    "executionInfo": {
     "elapsed": 9,
     "status": "aborted",
     "timestamp": 1678456562037,
     "user": {
      "displayName": "SANCHIT GOEL IIIT Dharwad",
      "userId": "03449467017154576853"
     },
     "user_tz": -330
    },
    "id": "08BRfnHrMgIj"
   },
   "outputs": [
    {
     "data": {
      "image/png": "[encoded data removed]",
      "text/plain": [
       "<Figure size 1500x3000 with 10 Axes>"
      ]
     },
     "metadata": {},
     "output_type": "display_data"
    }
   ],
   "source": [
    "# plot loss curves for each fold\n",
    "\n",
    "import matplotlib.pyplot as plt\n",
    "import seaborn as sns\n",
    "\n",
    "fig, ax = plt.subplots(5, 2, sharex=True, figsize=(15, 30))\n",
    "\n",
    "for i in range(5):\n",
    "    sns.lineplot(x=range(len(complete_stats[splits[2*i]][\"train\"][\"loss\"])), y=complete_stats[splits[2*i]][\"train\"][\"loss\"], ax=ax[i][0], label=\"Train Loss\")\n",
    "    sns.lineplot(x=range(len(complete_stats[splits[2*i]][\"val\"][\"loss\"])), y=complete_stats[splits[2*i]][\"val\"][\"loss\"], ax=ax[i][0], label=\"Val Loss\")\n",
    "    sns.lineplot(x=range(len(complete_stats[splits[2*(i)+1]][\"train\"][\"loss\"])), y=complete_stats[splits[2*(i)+1]][\"train\"][\"loss\"], ax=ax[i][1], label=\"Train Loss\")\n",
    "    sns.lineplot(x=range(len(complete_stats[splits[2*(i)+1]][\"val\"][\"loss\"])), y=complete_stats[splits[2*(i)+1]][\"val\"][\"loss\"], ax=ax[i][1], label=\"Val Loss\")\n",
    "    ax[i][0].set_title(splits[2*i])\n",
    "    ax[i][1].set_title(splits[2*(i)+1])\n",
    "    \n",
    "# plt.show()\n",
    "loss_plot = plt.gcf()\n",
    "loss_plot.savefig(f\"./esm_base_loss_{dataset}.png\")"
   ]
  },
  {
   "cell_type": "code",
   "execution_count": null,
   "metadata": {},
   "outputs": [],
   "source": [
    "file = open(f\"./{dataset}_results.txt\", \"w\") # write results to a file\n",
    "file.write(f\"{dataset} Results:\\nAverage Train Acc: {max_train_acc}\\nAverage Validation Acc: {max_val_acc}\")\n",
    "file.close()"
   ]
  },
  {
   "cell_type": "code",
   "execution_count": null,
   "metadata": {},
   "outputs": [],
   "source": []
  }
 ],
 "metadata": {
  "accelerator": "GPU",
  "colab": {
   "provenance": []
  },
  "gpuClass": "standard",
  "kernelspec": {
   "display_name": "Python 3",
   "language": "python",
   "name": "python3"
  },
  "language_info": {
   "codemirror_mode": {
    "name": "ipython",
    "version": 3
   },
   "file_extension": ".py",
   "mimetype": "text/x-python",
   "name": "python",
   "nbconvert_exporter": "python",
   "pygments_lexer": "ipython3",
   "version": "3.10.10"
  },
  "orig_nbformat": 4,
  "vscode": {
   "interpreter": {
    "hash": "aee8b7b246df8f9039afb4144a1f6fd8d2ca17a180786b69acc140d282b71a49"
   }
  }
 },
 "nbformat": 4,
 "nbformat_minor": 0
}
